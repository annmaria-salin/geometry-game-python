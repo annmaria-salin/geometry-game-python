{
 "cells": [
  {
   "cell_type": "code",
   "execution_count": null,
   "id": "17e68f7a",
   "metadata": {},
   "outputs": [
    {
     "name": "stdout",
     "output_type": "stream",
     "text": [
      "Rectangle Coordinate:  6 , 53 and 126 , 146\n"
     ]
    }
   ],
   "source": [
    "import turtle\n",
    "from random import randint\n",
    "\n",
    "\n",
    "class Point:\n",
    "\n",
    "    def __init__(self, x, y):\n",
    "        self.x = x\n",
    "        self.y = y\n",
    "\n",
    "    def falls_in_rectangle(self, rectangle):\n",
    "        if rectangle.point1.x < self.x < rectangle.point2.x and rectangle.point1.y < self.y < rectangle.point2.y:\n",
    "            return True\n",
    "        else:\n",
    "            return False\n",
    "\n",
    "    def distance_from_point(self, point):\n",
    "        return ((self.x - point.x) ** 2 + (self.y - point.y) ** 2) ** 0.5\n",
    "\n",
    "\n",
    "class Rectangle:\n",
    "\n",
    "    def __init__(self, point1, point2):\n",
    "        self.point1 = point1\n",
    "        self.point2 = point2\n",
    "\n",
    "    def area(self):\n",
    "        return (self.point2.x - self.point1.x) * (self.point2.y - self.point1.y)\n",
    "\n",
    "\n",
    "class GuiRectangle(Rectangle):\n",
    "\n",
    "    def draw(self, canvas):\n",
    "        # go to a certain coordinates\n",
    "        canvas.penup()\n",
    "        canvas.goto(self.point1.x, self.point1.y)\n",
    "        canvas.pendown()\n",
    "        canvas.forward(self.point2.x - self.point1.x)\n",
    "        canvas.left(90)\n",
    "        canvas.forward(self.point2.y - self.point1.y)\n",
    "        canvas.left(90)\n",
    "        canvas.forward(self.point2.x - self.point1.x)\n",
    "        canvas.left(90)\n",
    "        canvas.forward(self.point2.y - self.point1.y)\n",
    "\n",
    "\n",
    "class GuiPoint(Point):\n",
    "\n",
    "    def draw(self, canvas, size=5, color='red'):\n",
    "        canvas.penup()\n",
    "        canvas.goto(self.x, self.y)\n",
    "        canvas.pendown()\n",
    "        canvas.dot(size, color)\n",
    "\n",
    "\n",
    "# create rectangle object\n",
    "rectangle = GuiRectangle(Point(randint(0, 100), randint(0, 100)), Point(randint(100, 200), randint(100, 200)))\n",
    "\n",
    "# print rectangle coordinates\n",
    "print(\"Rectangle Coordinate: \", rectangle.point1.x, \",\", rectangle.point1.y,\n",
    "      \"and\", rectangle.point2.x, \",\", rectangle.point2.y)\n",
    "\n",
    "# get point and area from user\n",
    "user_point = GuiPoint(float(input(\"Guess X: \")), float(input(\"Guess Y: \")))\n",
    "user_area = float(input(\"Guess rectangle area: \"))\n",
    "\n",
    "# Print out the game result\n",
    "print(\"Your point was inside rectangle: \", user_point.falls_in_rectangle(rectangle))\n",
    "print(\"Your area was off by: \", rectangle.area() - user_area)\n",
    "\n",
    "myturtle = turtle.Turtle()\n",
    "rectangle.draw(canvas=myturtle)\n",
    "user_point.draw(canvas=myturtle)\n",
    "turtle.done()\n"
   ]
  }
 ],
 "metadata": {
  "kernelspec": {
   "display_name": "Python 3 (ipykernel)",
   "language": "python",
   "name": "python3"
  },
  "language_info": {
   "codemirror_mode": {
    "name": "ipython",
    "version": 3
   },
   "file_extension": ".py",
   "mimetype": "text/x-python",
   "name": "python",
   "nbconvert_exporter": "python",
   "pygments_lexer": "ipython3",
   "version": "3.9.7"
  }
 },
 "nbformat": 4,
 "nbformat_minor": 5
}
